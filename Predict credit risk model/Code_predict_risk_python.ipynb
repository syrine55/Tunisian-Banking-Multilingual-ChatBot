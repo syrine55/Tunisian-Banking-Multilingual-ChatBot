{
  "nbformat": 4,
  "nbformat_minor": 0,
  "metadata": {
    "colab": {
      "name": "Untitled4.ipynb",
      "provenance": []
    },
    "kernelspec": {
      "name": "python3",
      "display_name": "Python 3"
    },
    "language_info": {
      "name": "python"
    }
  },
  "cells": [
    {
      "cell_type": "code",
      "source": [
        "fileModel='finalized_model.sav'\n",
        "fileScaler='scaler.sav'\n",
        "model = pickle.load(open(fileModel, 'rb'))\n",
        "scaler= pickle.load(open(fileScaler, 'rb'))"
      ],
      "metadata": {
        "id": "qCwuco0JFIGN"
      },
      "execution_count": 28,
      "outputs": []
    },
    {
      "cell_type": "code",
      "source": [
        "def pipeline_predict (X):\n",
        "  X=scaler.transform(X)\n",
        "  return model.predict(X)[0]"
      ],
      "metadata": {
        "id": "Qbf0-qV6kRBr"
      },
      "execution_count": null,
      "outputs": []
    }
  ]
}